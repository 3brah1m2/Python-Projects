{
 "cells": [
  {
   "cell_type": "code",
   "execution_count": null,
   "metadata": {},
   "outputs": [
    {
     "data": {
      "text/plain": [
       "Traceback (most recent call last):\n",
       "  File \"c:\\Users\\Ebrahim R\\.vscode\\extensions\\ms-python.python-2024.16.1-win32-x64\\python_files\\python_server.py\", line 130, in exec_user_input\n",
       "    retval = callable_(user_input, user_globals)\n",
       "             ^^^^^^^^^^^^^^^^^^^^^^^^^^^^^^^^^^^\n",
       "  File \"<string>\", line 2\n",
       "    with Image.open(\"C:\\Users\\Ebrahim R\\Documents\\Python-Projects\\Projects\\Photo Manipulation\\lake.png\") as im:\n",
       "                    ^^^^^^^^^^^^^^^^^^^^^^^^^^^^^^^^^^^^^^^^^^^^^^^^^^^^^^^^^^^^^^^^^^^^^^^^^^^^^^^^^^^\n",
       "SyntaxError: (unicode error) 'unicodeescape' codec can't decode bytes in position 2-3: truncated \\UXXXXXXXX escape\n",
       "\n"
      ]
     },
     "metadata": {},
     "output_type": "display_data"
    }
   ],
   "source": [
    "from PIL import Image\n",
    "with Image.open(\"C:/Users/Ebrahim R/Documents/Python-Projects/Projects/Photo Manipulation/lake.png\") as im:\n",
    "    im.rotate(45).show()"
   ]
  },
  {
   "cell_type": "code",
   "execution_count": 10,
   "metadata": {},
   "outputs": [],
   "source": [
    "from PIL import ImageEnhance, Image\n",
    "def brightness(img, factor):\n",
    "    with Image.open(img) as img2:\n",
    "        img_rgb = img2.convert('RGB')\n",
    "        enhancer = ImageEnhance.Brightness(img_rgb)\n",
    "        img_bright = enhancer.enhance(factor)\n",
    "        img_bright.show()\n",
    "\n",
    "brightness('C:/Users/Ebrahim R/Documents/Python-Projects/Projects/Photo Manipulation/lake.png', 10)"
   ]
  },
  {
   "cell_type": "code",
   "execution_count": 1,
   "metadata": {},
   "outputs": [],
   "source": [
    "from PIL import ImageFilter, Image\n",
    "def brightness(img, factor):\n",
    "    with Image.open(img) as img2:\n",
    "        img_rgb = img2.convert('RGB')\n",
    "        blurred = img_rgb.filter(ImageFilter.GaussianBlur(radius=factor))\n",
    "        blurred.show()\n",
    "brightness('C:/Users/Ebrahim R/Documents/Python-Projects/Projects/Photo Manipulation/lake.png', 1.5)"
   ]
  },
  {
   "cell_type": "code",
   "execution_count": null,
   "metadata": {},
   "outputs": [],
   "source": []
  }
 ],
 "metadata": {
  "kernelspec": {
   "display_name": "Python 3",
   "language": "python",
   "name": "python3"
  },
  "language_info": {
   "codemirror_mode": {
    "name": "ipython",
    "version": 3
   },
   "file_extension": ".py",
   "mimetype": "text/x-python",
   "name": "python",
   "nbconvert_exporter": "python",
   "pygments_lexer": "ipython3",
   "version": "3.12.0"
  }
 },
 "nbformat": 4,
 "nbformat_minor": 2
}
